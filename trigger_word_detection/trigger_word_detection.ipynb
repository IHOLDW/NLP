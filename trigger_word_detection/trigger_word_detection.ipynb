{
 "cells": [
  {
   "cell_type": "code",
   "execution_count": 1,
   "metadata": {},
   "outputs": [
    {
     "name": "stderr",
     "output_type": "stream",
     "text": [
      "2025-02-11 02:08:20.261928: I tensorflow/core/platform/cpu_feature_guard.cc:210] This TensorFlow binary is optimized to use available CPU instructions in performance-critical operations.\n",
      "To enable the following instructions: AVX2 FMA, in other operations, rebuild TensorFlow with the appropriate compiler flags.\n"
     ]
    }
   ],
   "source": [
    "import os\n",
    "import pydub\n",
    "import librosa\n",
    "import matplotlib.pyplot as plt\n",
    "import numpy as np\n",
    "from scipy.io import wavfile\n",
    "from scipy import signal\n",
    "import tensorflow as tf\n",
    "from tensorflow.keras.layers import Dense, Activation, TimeDistributed, GRU, Conv1D, Dropout, BatchNormalization\n",
    "from tensorflow.keras import Model"
   ]
  },
  {
   "cell_type": "code",
   "execution_count": 2,
   "metadata": {},
   "outputs": [],
   "source": [
    "DIR = r\"/media/shiva/ML/NLP/trigger_word_detection/dataset/raw_data\""
   ]
  },
  {
   "cell_type": "code",
   "execution_count": 3,
   "metadata": {},
   "outputs": [],
   "source": [
    "def load_audio_file(DIR):\n",
    "    pos = []\n",
    "    neg = []\n",
    "    back = []\n",
    "    for i in os.listdir(DIR):\n",
    "        d = os.path.join(DIR, i)\n",
    "        for aud in os.listdir(d):\n",
    "            audio_file = os.path.join(d, aud)\n",
    "            if audio_file.endswith('wav'):\n",
    "                audio = pydub.AudioSegment.from_wav(audio_file)\n",
    "                if i == 'activates':\n",
    "                    pos.append(audio)\n",
    "                elif i == 'backgrounds':\n",
    "                    back.append(audio)\n",
    "                elif i == 'negatives':\n",
    "                    neg.append(audio)\n",
    "\n",
    "    return pos, neg, back"
   ]
  },
  {
   "cell_type": "code",
   "execution_count": 4,
   "metadata": {},
   "outputs": [],
   "source": [
    "def get_random_time(segment_ms, background_len_ms):\n",
    "    segment_start  = np.random.randint(low = 0, high = background_len_ms - segment_ms)\n",
    "    segment_end = segment_start + segment_ms - 1\n",
    "\n",
    "    return (segment_start, segment_end)"
   ]
  },
  {
   "cell_type": "code",
   "execution_count": 5,
   "metadata": {},
   "outputs": [],
   "source": [
    "def is_overlapping(segment_time, previos_segment_time):\n",
    "    segment_start, segment_end = segment_time\n",
    "    overlap = False\n",
    "    for prev_str, prev_end in previos_segment_time:\n",
    "        if segment_start <= prev_end and segment_end >= prev_str:\n",
    "            overlap = True\n",
    "            break\n",
    "    \n",
    "    return overlap"
   ]
  },
  {
   "cell_type": "code",
   "execution_count": 6,
   "metadata": {},
   "outputs": [],
   "source": [
    "def insert_audio_clip(background, audio_clip, previous_time):\n",
    "    segment_ms = len(audio_clip)\n",
    "    random_time = get_random_time(segment_ms, len(background))\n",
    "    retry = 5\n",
    "\n",
    "    while is_overlapping(random_time, previous_time) and retry >= 0:\n",
    "        random_time = get_random_time(segment_ms, len(background))\n",
    "        retry -= 1\n",
    "    \n",
    "    if not is_overlapping(random_time, previous_time):\n",
    "        previous_time.append(random_time)\n",
    "        new_background = background.overlay(audio_clip, position = random_time[0])\n",
    "\n",
    "    else:\n",
    "        new_background = background\n",
    "        random_time = (len(background), len(background))\n",
    "\n",
    "    return new_background, random_time"
   ]
  },
  {
   "cell_type": "code",
   "execution_count": 7,
   "metadata": {},
   "outputs": [],
   "source": [
    "def insert_ones(y, segment_end_ms):\n",
    "    _, ty = y.shape\n",
    "    segment_end_y = int(segment_end_ms * ty / 10000.0)\n",
    "\n",
    "    if segment_end_y < ty:\n",
    "        for i in range(segment_end_y + 1, segment_end_y + 51):\n",
    "            if i < ty:\n",
    "                y[0, i] = 1\n",
    "\n",
    "    return y"
   ]
  },
  {
   "cell_type": "code",
   "execution_count": 8,
   "metadata": {},
   "outputs": [],
   "source": [
    "def get_wav_info(wav_file):\n",
    "    rate, data = wavfile.read(wav_file)\n",
    "    return rate, data"
   ]
  },
  {
   "cell_type": "code",
   "execution_count": 9,
   "metadata": {},
   "outputs": [],
   "source": [
    "def graph_spectrogram_librosa(wav_file):\n",
    "    # rate, data = get_wav_info(wav_file)\n",
    "    nfft = 200 # Length of each window segment\n",
    "    # fs = 8000 # Sampling frequencies\n",
    "    noverlap = 120 # Overlap between windows\n",
    "    aud, _ = librosa.load(wav_file, sr = 44100, mono = True)\n",
    "    stft = librosa.stft(aud, n_fft = nfft, hop_length = nfft - noverlap)\n",
    "    \n",
    "    stft = np.abs(stft)\n",
    "    stft = librosa.power_to_db(stft ** 2, ref = np.max)\n",
    "    \n",
    "    return stft"
   ]
  },
  {
   "cell_type": "code",
   "execution_count": 10,
   "metadata": {},
   "outputs": [],
   "source": [
    "def graph_spectrogram_pydub(wav_file):\n",
    "    rate, data = get_wav_info(wav_file)\n",
    "    nfft = 200 # Length of each window segment\n",
    "    fs = 8000 # Sampling frequencies\n",
    "    noverlap = 120 # Overlap between windows\n",
    "    nchannels = data.ndim\n",
    "    if nchannels == 1:\n",
    "        pxx, freqs, bins, im = plt.specgram(data, nfft, fs, noverlap = noverlap)\n",
    "    elif nchannels == 2:\n",
    "        pxx, freqs, bins, im = plt.specgram(data[:,0], nfft, fs, noverlap = noverlap)\n",
    "    return pxx"
   ]
  },
  {
   "cell_type": "code",
   "execution_count": 11,
   "metadata": {},
   "outputs": [],
   "source": [
    "def create_training_ex(background, positive, negative, ty):\n",
    "    background -= 20\n",
    "    y = np.zeros((1, ty))\n",
    "    previous_segment = []\n",
    "\n",
    "    number_of_positives = np.random.randint(0, 5)\n",
    "    random_indices = np.random.randint(len(positive), size=number_of_positives)\n",
    "    random_positives = [positive[i] for i in random_indices]\n",
    "    number_of_negatives = np.random.randint(0, 3)\n",
    "    random_indices = np.random.randint(len(negative), size=number_of_negatives)\n",
    "    random_negatives = [negative[i] for i in random_indices]\n",
    "    print(f\"no_of_psoitives: {number_of_positives}\")\n",
    "    print(f\"random_psoitives: {random_positives}\")\n",
    "    print(f\"no_of_negatives: {number_of_negatives}\")\n",
    "    print(f\"random_negetives: {random_negatives}\")\n",
    "\n",
    "    for random_activate in random_positives:\n",
    "        background, segment_time = insert_audio_clip(background, random_activate, previous_segment)\n",
    "        segment_start, segment_end = segment_time\n",
    "        y = insert_ones(y, segment_end)\n",
    "\n",
    "    for random_neg in random_negatives:\n",
    "        background, segment_time = insert_audio_clip(background, random_neg, previous_segment)\n",
    "\n",
    "    background = background.apply_gain(-20 -background.dBFS)\n",
    "\n",
    "    file_handle = background.export(\"train\" + \".wav\", format=\"wav\")\n",
    "\n",
    "    x = graph_spectrogram_librosa(\"train.wav\")\n",
    "    \n",
    "    return x, y\n",
    "        "
   ]
  },
  {
   "cell_type": "code",
   "execution_count": 12,
   "metadata": {},
   "outputs": [],
   "source": [
    "positive, negative, backgrounds = load_audio_file(DIR)\n",
    "Ty = 1375"
   ]
  },
  {
   "cell_type": "code",
   "execution_count": 13,
   "metadata": {},
   "outputs": [
    {
     "name": "stdout",
     "output_type": "stream",
     "text": [
      "no_of_psoitives: 0\n",
      "random_psoitives: []\n",
      "no_of_negatives: 2\n",
      "random_negetives: [<pydub.audio_segment.AudioSegment object at 0x7f438a7c7940>, <pydub.audio_segment.AudioSegment object at 0x7f4420f05cc0>]\n"
     ]
    }
   ],
   "source": [
    "x, y = create_training_ex(backgrounds[0], positive, negative, Ty)"
   ]
  },
  {
   "cell_type": "code",
   "execution_count": 14,
   "metadata": {},
   "outputs": [],
   "source": [
    "def create_dataset():\n",
    "    X, Y = [], []\n",
    "    batch_samples = 32\n",
    "    for i in range(0, batch_samples):\n",
    "        x, y = create_training_ex(backgrounds[i % 2], positive, negative, Ty)\n",
    "        X.append(x.swapaxes(0, 1))\n",
    "        Y.append(y.swapaxes(0, 1))\n",
    "\n",
    "    return np.array(X), np.array(Y)"
   ]
  },
  {
   "cell_type": "code",
   "execution_count": 15,
   "metadata": {},
   "outputs": [
    {
     "name": "stdout",
     "output_type": "stream",
     "text": [
      "no_of_psoitives: 1\n",
      "random_psoitives: [<pydub.audio_segment.AudioSegment object at 0x7f438d7cfeb0>]\n",
      "no_of_negatives: 2\n",
      "random_negetives: [<pydub.audio_segment.AudioSegment object at 0x7f438a7c75e0>, <pydub.audio_segment.AudioSegment object at 0x7f438a7c7dc0>]\n",
      "no_of_psoitives: 2\n",
      "random_psoitives: [<pydub.audio_segment.AudioSegment object at 0x7f4420f05c90>, <pydub.audio_segment.AudioSegment object at 0x7f4420f05c90>]\n",
      "no_of_negatives: 2\n",
      "random_negetives: [<pydub.audio_segment.AudioSegment object at 0x7f438a7c7eb0>, <pydub.audio_segment.AudioSegment object at 0x7f438a7c76a0>]\n",
      "no_of_psoitives: 0\n",
      "random_psoitives: []\n",
      "no_of_negatives: 2\n",
      "random_negetives: [<pydub.audio_segment.AudioSegment object at 0x7f438a7c7940>, <pydub.audio_segment.AudioSegment object at 0x7f438a7c7dc0>]\n",
      "no_of_psoitives: 2\n",
      "random_psoitives: [<pydub.audio_segment.AudioSegment object at 0x7f4420f078b0>, <pydub.audio_segment.AudioSegment object at 0x7f442375a3e0>]\n",
      "no_of_negatives: 1\n",
      "random_negetives: [<pydub.audio_segment.AudioSegment object at 0x7f4420f05e70>]\n",
      "no_of_psoitives: 4\n",
      "random_psoitives: [<pydub.audio_segment.AudioSegment object at 0x7f442375a3e0>, <pydub.audio_segment.AudioSegment object at 0x7f4420f05c90>, <pydub.audio_segment.AudioSegment object at 0x7f4420f05c90>, <pydub.audio_segment.AudioSegment object at 0x7f4420f06ad0>]\n",
      "no_of_negatives: 0\n",
      "random_negetives: []\n",
      "no_of_psoitives: 1\n",
      "random_psoitives: [<pydub.audio_segment.AudioSegment object at 0x7f4420f078b0>]\n",
      "no_of_negatives: 1\n",
      "random_negetives: [<pydub.audio_segment.AudioSegment object at 0x7f438a7c76a0>]\n",
      "no_of_psoitives: 2\n",
      "random_psoitives: [<pydub.audio_segment.AudioSegment object at 0x7f4420f05930>, <pydub.audio_segment.AudioSegment object at 0x7f4420f05c90>]\n",
      "no_of_negatives: 2\n",
      "random_negetives: [<pydub.audio_segment.AudioSegment object at 0x7f4420f05e70>, <pydub.audio_segment.AudioSegment object at 0x7f438a7c75e0>]\n",
      "no_of_psoitives: 3\n",
      "random_psoitives: [<pydub.audio_segment.AudioSegment object at 0x7f442375a3e0>, <pydub.audio_segment.AudioSegment object at 0x7f43970f7310>, <pydub.audio_segment.AudioSegment object at 0x7f438d7cfeb0>]\n",
      "no_of_negatives: 0\n",
      "random_negetives: []\n",
      "no_of_psoitives: 3\n",
      "random_psoitives: [<pydub.audio_segment.AudioSegment object at 0x7f43970f7310>, <pydub.audio_segment.AudioSegment object at 0x7f4420f05630>, <pydub.audio_segment.AudioSegment object at 0x7f438d7cfeb0>]\n",
      "no_of_negatives: 0\n",
      "random_negetives: []\n",
      "no_of_psoitives: 4\n",
      "random_psoitives: [<pydub.audio_segment.AudioSegment object at 0x7f4420f06ad0>, <pydub.audio_segment.AudioSegment object at 0x7f4420f078b0>, <pydub.audio_segment.AudioSegment object at 0x7f4420f05cf0>, <pydub.audio_segment.AudioSegment object at 0x7f442375a3e0>]\n",
      "no_of_negatives: 2\n",
      "random_negetives: [<pydub.audio_segment.AudioSegment object at 0x7f438a7c7eb0>, <pydub.audio_segment.AudioSegment object at 0x7f438a7c7dc0>]\n",
      "no_of_psoitives: 3\n",
      "random_psoitives: [<pydub.audio_segment.AudioSegment object at 0x7f4420f078b0>, <pydub.audio_segment.AudioSegment object at 0x7f4420f078b0>, <pydub.audio_segment.AudioSegment object at 0x7f4420f06ad0>]\n",
      "no_of_negatives: 1\n",
      "random_negetives: [<pydub.audio_segment.AudioSegment object at 0x7f4420f05cc0>]\n",
      "no_of_psoitives: 4\n",
      "random_psoitives: [<pydub.audio_segment.AudioSegment object at 0x7f4420f05cf0>, <pydub.audio_segment.AudioSegment object at 0x7f4420f078b0>, <pydub.audio_segment.AudioSegment object at 0x7f438d7cfeb0>, <pydub.audio_segment.AudioSegment object at 0x7f44219b7a30>]\n",
      "no_of_negatives: 1\n",
      "random_negetives: [<pydub.audio_segment.AudioSegment object at 0x7f438a7c76a0>]\n",
      "no_of_psoitives: 0\n",
      "random_psoitives: []\n",
      "no_of_negatives: 1\n",
      "random_negetives: [<pydub.audio_segment.AudioSegment object at 0x7f4420f05cc0>]\n",
      "no_of_psoitives: 3\n",
      "random_psoitives: [<pydub.audio_segment.AudioSegment object at 0x7f43970f7310>, <pydub.audio_segment.AudioSegment object at 0x7f4420f05c90>, <pydub.audio_segment.AudioSegment object at 0x7f4420f078b0>]\n",
      "no_of_negatives: 0\n",
      "random_negetives: []\n",
      "no_of_psoitives: 0\n",
      "random_psoitives: []\n",
      "no_of_negatives: 0\n",
      "random_negetives: []\n",
      "no_of_psoitives: 2\n",
      "random_psoitives: [<pydub.audio_segment.AudioSegment object at 0x7f4420f05c90>, <pydub.audio_segment.AudioSegment object at 0x7f44219b7a30>]\n",
      "no_of_negatives: 0\n",
      "random_negetives: []\n",
      "no_of_psoitives: 1\n",
      "random_psoitives: [<pydub.audio_segment.AudioSegment object at 0x7f4420f078b0>]\n",
      "no_of_negatives: 2\n",
      "random_negetives: [<pydub.audio_segment.AudioSegment object at 0x7f438a7c7a30>, <pydub.audio_segment.AudioSegment object at 0x7f438a7c7790>]\n",
      "no_of_psoitives: 3\n",
      "random_psoitives: [<pydub.audio_segment.AudioSegment object at 0x7f4420f05630>, <pydub.audio_segment.AudioSegment object at 0x7f4420f078b0>, <pydub.audio_segment.AudioSegment object at 0x7f442375a3e0>]\n",
      "no_of_negatives: 0\n",
      "random_negetives: []\n",
      "no_of_psoitives: 4\n",
      "random_psoitives: [<pydub.audio_segment.AudioSegment object at 0x7f44219b7a30>, <pydub.audio_segment.AudioSegment object at 0x7f44219b7a30>, <pydub.audio_segment.AudioSegment object at 0x7f4420f05c90>, <pydub.audio_segment.AudioSegment object at 0x7f4420f078b0>]\n",
      "no_of_negatives: 1\n",
      "random_negetives: [<pydub.audio_segment.AudioSegment object at 0x7f438a7c76a0>]\n",
      "no_of_psoitives: 3\n",
      "random_psoitives: [<pydub.audio_segment.AudioSegment object at 0x7f442375a3e0>, <pydub.audio_segment.AudioSegment object at 0x7f43970f7310>, <pydub.audio_segment.AudioSegment object at 0x7f4420f05930>]\n",
      "no_of_negatives: 2\n",
      "random_negetives: [<pydub.audio_segment.AudioSegment object at 0x7f438a7c7940>, <pydub.audio_segment.AudioSegment object at 0x7f438a7c7790>]\n",
      "no_of_psoitives: 2\n",
      "random_psoitives: [<pydub.audio_segment.AudioSegment object at 0x7f438d7cfeb0>, <pydub.audio_segment.AudioSegment object at 0x7f43970f7310>]\n",
      "no_of_negatives: 1\n",
      "random_negetives: [<pydub.audio_segment.AudioSegment object at 0x7f438a7c7790>]\n",
      "no_of_psoitives: 0\n",
      "random_psoitives: []\n",
      "no_of_negatives: 0\n",
      "random_negetives: []\n",
      "no_of_psoitives: 1\n",
      "random_psoitives: [<pydub.audio_segment.AudioSegment object at 0x7f43970f7310>]\n",
      "no_of_negatives: 1\n",
      "random_negetives: [<pydub.audio_segment.AudioSegment object at 0x7f438a7c7730>]\n",
      "no_of_psoitives: 4\n",
      "random_psoitives: [<pydub.audio_segment.AudioSegment object at 0x7f4420f05c90>, <pydub.audio_segment.AudioSegment object at 0x7f4420f05930>, <pydub.audio_segment.AudioSegment object at 0x7f442375a3e0>, <pydub.audio_segment.AudioSegment object at 0x7f4420f078b0>]\n",
      "no_of_negatives: 0\n",
      "random_negetives: []\n",
      "no_of_psoitives: 4\n",
      "random_psoitives: [<pydub.audio_segment.AudioSegment object at 0x7f4420f05cf0>, <pydub.audio_segment.AudioSegment object at 0x7f4420f078b0>, <pydub.audio_segment.AudioSegment object at 0x7f44219b7a30>, <pydub.audio_segment.AudioSegment object at 0x7f43970f7310>]\n",
      "no_of_negatives: 2\n",
      "random_negetives: [<pydub.audio_segment.AudioSegment object at 0x7f438a7c7a30>, <pydub.audio_segment.AudioSegment object at 0x7f438a7c76a0>]\n",
      "no_of_psoitives: 1\n",
      "random_psoitives: [<pydub.audio_segment.AudioSegment object at 0x7f4420f05930>]\n",
      "no_of_negatives: 0\n",
      "random_negetives: []\n",
      "no_of_psoitives: 4\n",
      "random_psoitives: [<pydub.audio_segment.AudioSegment object at 0x7f438d7cfeb0>, <pydub.audio_segment.AudioSegment object at 0x7f4420f06ad0>, <pydub.audio_segment.AudioSegment object at 0x7f442375a3e0>, <pydub.audio_segment.AudioSegment object at 0x7f4420f05cf0>]\n",
      "no_of_negatives: 0\n",
      "random_negetives: []\n",
      "no_of_psoitives: 0\n",
      "random_psoitives: []\n",
      "no_of_negatives: 2\n",
      "random_negetives: [<pydub.audio_segment.AudioSegment object at 0x7f438a7c7790>, <pydub.audio_segment.AudioSegment object at 0x7f438a7c7a30>]\n",
      "no_of_psoitives: 1\n",
      "random_psoitives: [<pydub.audio_segment.AudioSegment object at 0x7f43970f7310>]\n",
      "no_of_negatives: 1\n",
      "random_negetives: [<pydub.audio_segment.AudioSegment object at 0x7f438a7c7a30>]\n",
      "no_of_psoitives: 3\n",
      "random_psoitives: [<pydub.audio_segment.AudioSegment object at 0x7f44219b7a30>, <pydub.audio_segment.AudioSegment object at 0x7f44219b7a30>, <pydub.audio_segment.AudioSegment object at 0x7f4420f05c90>]\n",
      "no_of_negatives: 2\n",
      "random_negetives: [<pydub.audio_segment.AudioSegment object at 0x7f438a7c7940>, <pydub.audio_segment.AudioSegment object at 0x7f4420f05cc0>]\n",
      "no_of_psoitives: 1\n",
      "random_psoitives: [<pydub.audio_segment.AudioSegment object at 0x7f442375a3e0>]\n",
      "no_of_negatives: 0\n",
      "random_negetives: []\n",
      "no_of_psoitives: 0\n",
      "random_psoitives: []\n",
      "no_of_negatives: 0\n",
      "random_negetives: []\n"
     ]
    }
   ],
   "source": [
    "x, y = create_dataset()"
   ]
  },
  {
   "cell_type": "code",
   "execution_count": 16,
   "metadata": {},
   "outputs": [
    {
     "name": "stdout",
     "output_type": "stream",
     "text": [
      "(32, 5513, 101)\n",
      "(32, 1375, 1)\n"
     ]
    }
   ],
   "source": [
    "print(x.shape)\n",
    "print(y.shape)"
   ]
  },
  {
   "cell_type": "code",
   "execution_count": 17,
   "metadata": {},
   "outputs": [],
   "source": [
    "# print(x.shape)\n",
    "# print(y.shape)"
   ]
  },
  {
   "cell_type": "code",
   "execution_count": 18,
   "metadata": {},
   "outputs": [],
   "source": [
    "def modelf(input_shape):\n",
    "    X_input = tf.keras.Input(shape = input_shape)\n",
    "    X = Conv1D(filters=196, kernel_size=15, strides=4)(X_input)\n",
    "    # Batch normalization\n",
    "    X = BatchNormalization()(X)\n",
    "    # ReLu activation\n",
    "    X = Activation('relu')(X)\n",
    "    # dropout (use 0.8)\n",
    "    X = Dropout(rate=0.8)(X)             \n",
    "    # GRU (use 128 units and return the sequences)\n",
    "    X = GRU(128, return_sequences=True)(X)\n",
    "    # dropout (use 0.8)\n",
    "    X = Dropout(rate=0.8)(X)\n",
    "    # Batch normalization.\n",
    "    X = BatchNormalization()(X)             \n",
    "    # GRU (use 128 units and return the sequences)\n",
    "    X = GRU(128, return_sequences=True)(X)\n",
    "    # dropout (use 0.8)\n",
    "    X = Dropout(rate=0.8)(X)       \n",
    "    # Batch normalization\n",
    "    X = BatchNormalization()(X) \n",
    "    # dropout (use 0.8)\n",
    "    X = Dropout(rate=0.8)(X)\n",
    "    X = TimeDistributed(Dense(1, activation='sigmoid'))(X)\n",
    "    model = Model(inputs = X_input, outputs = X)\n",
    "    \n",
    "    return model  "
   ]
  },
  {
   "cell_type": "code",
   "execution_count": 19,
   "metadata": {},
   "outputs": [],
   "source": [
    "n_fft = 200\n",
    "model = modelf((None, (n_fft // 2) + 1))"
   ]
  },
  {
   "cell_type": "code",
   "execution_count": 20,
   "metadata": {},
   "outputs": [
    {
     "data": {
      "text/html": [
       "<pre style=\"white-space:pre;overflow-x:auto;line-height:normal;font-family:Menlo,'DejaVu Sans Mono',consolas,'Courier New',monospace\"><span style=\"font-weight: bold\">Model: \"functional\"</span>\n",
       "</pre>\n"
      ],
      "text/plain": [
       "\u001b[1mModel: \"functional\"\u001b[0m\n"
      ]
     },
     "metadata": {},
     "output_type": "display_data"
    },
    {
     "data": {
      "text/html": [
       "<pre style=\"white-space:pre;overflow-x:auto;line-height:normal;font-family:Menlo,'DejaVu Sans Mono',consolas,'Courier New',monospace\">┏━━━━━━━━━━━━━━━━━━━━━━━━━━━━━━━━━┳━━━━━━━━━━━━━━━━━━━━━━━━┳━━━━━━━━━━━━━━━┓\n",
       "┃<span style=\"font-weight: bold\"> Layer (type)                    </span>┃<span style=\"font-weight: bold\"> Output Shape           </span>┃<span style=\"font-weight: bold\">       Param # </span>┃\n",
       "┡━━━━━━━━━━━━━━━━━━━━━━━━━━━━━━━━━╇━━━━━━━━━━━━━━━━━━━━━━━━╇━━━━━━━━━━━━━━━┩\n",
       "│ input_layer (<span style=\"color: #0087ff; text-decoration-color: #0087ff\">InputLayer</span>)        │ (<span style=\"color: #00d7ff; text-decoration-color: #00d7ff\">None</span>, <span style=\"color: #00d7ff; text-decoration-color: #00d7ff\">None</span>, <span style=\"color: #00af00; text-decoration-color: #00af00\">101</span>)      │             <span style=\"color: #00af00; text-decoration-color: #00af00\">0</span> │\n",
       "├─────────────────────────────────┼────────────────────────┼───────────────┤\n",
       "│ conv1d (<span style=\"color: #0087ff; text-decoration-color: #0087ff\">Conv1D</span>)                 │ (<span style=\"color: #00d7ff; text-decoration-color: #00d7ff\">None</span>, <span style=\"color: #00d7ff; text-decoration-color: #00d7ff\">None</span>, <span style=\"color: #00af00; text-decoration-color: #00af00\">196</span>)      │       <span style=\"color: #00af00; text-decoration-color: #00af00\">297,136</span> │\n",
       "├─────────────────────────────────┼────────────────────────┼───────────────┤\n",
       "│ batch_normalization             │ (<span style=\"color: #00d7ff; text-decoration-color: #00d7ff\">None</span>, <span style=\"color: #00d7ff; text-decoration-color: #00d7ff\">None</span>, <span style=\"color: #00af00; text-decoration-color: #00af00\">196</span>)      │           <span style=\"color: #00af00; text-decoration-color: #00af00\">784</span> │\n",
       "│ (<span style=\"color: #0087ff; text-decoration-color: #0087ff\">BatchNormalization</span>)            │                        │               │\n",
       "├─────────────────────────────────┼────────────────────────┼───────────────┤\n",
       "│ activation (<span style=\"color: #0087ff; text-decoration-color: #0087ff\">Activation</span>)         │ (<span style=\"color: #00d7ff; text-decoration-color: #00d7ff\">None</span>, <span style=\"color: #00d7ff; text-decoration-color: #00d7ff\">None</span>, <span style=\"color: #00af00; text-decoration-color: #00af00\">196</span>)      │             <span style=\"color: #00af00; text-decoration-color: #00af00\">0</span> │\n",
       "├─────────────────────────────────┼────────────────────────┼───────────────┤\n",
       "│ dropout (<span style=\"color: #0087ff; text-decoration-color: #0087ff\">Dropout</span>)               │ (<span style=\"color: #00d7ff; text-decoration-color: #00d7ff\">None</span>, <span style=\"color: #00d7ff; text-decoration-color: #00d7ff\">None</span>, <span style=\"color: #00af00; text-decoration-color: #00af00\">196</span>)      │             <span style=\"color: #00af00; text-decoration-color: #00af00\">0</span> │\n",
       "├─────────────────────────────────┼────────────────────────┼───────────────┤\n",
       "│ gru (<span style=\"color: #0087ff; text-decoration-color: #0087ff\">GRU</span>)                       │ (<span style=\"color: #00d7ff; text-decoration-color: #00d7ff\">None</span>, <span style=\"color: #00d7ff; text-decoration-color: #00d7ff\">None</span>, <span style=\"color: #00af00; text-decoration-color: #00af00\">128</span>)      │       <span style=\"color: #00af00; text-decoration-color: #00af00\">125,184</span> │\n",
       "├─────────────────────────────────┼────────────────────────┼───────────────┤\n",
       "│ dropout_1 (<span style=\"color: #0087ff; text-decoration-color: #0087ff\">Dropout</span>)             │ (<span style=\"color: #00d7ff; text-decoration-color: #00d7ff\">None</span>, <span style=\"color: #00d7ff; text-decoration-color: #00d7ff\">None</span>, <span style=\"color: #00af00; text-decoration-color: #00af00\">128</span>)      │             <span style=\"color: #00af00; text-decoration-color: #00af00\">0</span> │\n",
       "├─────────────────────────────────┼────────────────────────┼───────────────┤\n",
       "│ batch_normalization_1           │ (<span style=\"color: #00d7ff; text-decoration-color: #00d7ff\">None</span>, <span style=\"color: #00d7ff; text-decoration-color: #00d7ff\">None</span>, <span style=\"color: #00af00; text-decoration-color: #00af00\">128</span>)      │           <span style=\"color: #00af00; text-decoration-color: #00af00\">512</span> │\n",
       "│ (<span style=\"color: #0087ff; text-decoration-color: #0087ff\">BatchNormalization</span>)            │                        │               │\n",
       "├─────────────────────────────────┼────────────────────────┼───────────────┤\n",
       "│ gru_1 (<span style=\"color: #0087ff; text-decoration-color: #0087ff\">GRU</span>)                     │ (<span style=\"color: #00d7ff; text-decoration-color: #00d7ff\">None</span>, <span style=\"color: #00d7ff; text-decoration-color: #00d7ff\">None</span>, <span style=\"color: #00af00; text-decoration-color: #00af00\">128</span>)      │        <span style=\"color: #00af00; text-decoration-color: #00af00\">99,072</span> │\n",
       "├─────────────────────────────────┼────────────────────────┼───────────────┤\n",
       "│ dropout_2 (<span style=\"color: #0087ff; text-decoration-color: #0087ff\">Dropout</span>)             │ (<span style=\"color: #00d7ff; text-decoration-color: #00d7ff\">None</span>, <span style=\"color: #00d7ff; text-decoration-color: #00d7ff\">None</span>, <span style=\"color: #00af00; text-decoration-color: #00af00\">128</span>)      │             <span style=\"color: #00af00; text-decoration-color: #00af00\">0</span> │\n",
       "├─────────────────────────────────┼────────────────────────┼───────────────┤\n",
       "│ batch_normalization_2           │ (<span style=\"color: #00d7ff; text-decoration-color: #00d7ff\">None</span>, <span style=\"color: #00d7ff; text-decoration-color: #00d7ff\">None</span>, <span style=\"color: #00af00; text-decoration-color: #00af00\">128</span>)      │           <span style=\"color: #00af00; text-decoration-color: #00af00\">512</span> │\n",
       "│ (<span style=\"color: #0087ff; text-decoration-color: #0087ff\">BatchNormalization</span>)            │                        │               │\n",
       "├─────────────────────────────────┼────────────────────────┼───────────────┤\n",
       "│ dropout_3 (<span style=\"color: #0087ff; text-decoration-color: #0087ff\">Dropout</span>)             │ (<span style=\"color: #00d7ff; text-decoration-color: #00d7ff\">None</span>, <span style=\"color: #00d7ff; text-decoration-color: #00d7ff\">None</span>, <span style=\"color: #00af00; text-decoration-color: #00af00\">128</span>)      │             <span style=\"color: #00af00; text-decoration-color: #00af00\">0</span> │\n",
       "├─────────────────────────────────┼────────────────────────┼───────────────┤\n",
       "│ time_distributed                │ (<span style=\"color: #00d7ff; text-decoration-color: #00d7ff\">None</span>, <span style=\"color: #00d7ff; text-decoration-color: #00d7ff\">None</span>, <span style=\"color: #00af00; text-decoration-color: #00af00\">1</span>)        │           <span style=\"color: #00af00; text-decoration-color: #00af00\">129</span> │\n",
       "│ (<span style=\"color: #0087ff; text-decoration-color: #0087ff\">TimeDistributed</span>)               │                        │               │\n",
       "└─────────────────────────────────┴────────────────────────┴───────────────┘\n",
       "</pre>\n"
      ],
      "text/plain": [
       "┏━━━━━━━━━━━━━━━━━━━━━━━━━━━━━━━━━┳━━━━━━━━━━━━━━━━━━━━━━━━┳━━━━━━━━━━━━━━━┓\n",
       "┃\u001b[1m \u001b[0m\u001b[1mLayer (type)                   \u001b[0m\u001b[1m \u001b[0m┃\u001b[1m \u001b[0m\u001b[1mOutput Shape          \u001b[0m\u001b[1m \u001b[0m┃\u001b[1m \u001b[0m\u001b[1m      Param #\u001b[0m\u001b[1m \u001b[0m┃\n",
       "┡━━━━━━━━━━━━━━━━━━━━━━━━━━━━━━━━━╇━━━━━━━━━━━━━━━━━━━━━━━━╇━━━━━━━━━━━━━━━┩\n",
       "│ input_layer (\u001b[38;5;33mInputLayer\u001b[0m)        │ (\u001b[38;5;45mNone\u001b[0m, \u001b[38;5;45mNone\u001b[0m, \u001b[38;5;34m101\u001b[0m)      │             \u001b[38;5;34m0\u001b[0m │\n",
       "├─────────────────────────────────┼────────────────────────┼───────────────┤\n",
       "│ conv1d (\u001b[38;5;33mConv1D\u001b[0m)                 │ (\u001b[38;5;45mNone\u001b[0m, \u001b[38;5;45mNone\u001b[0m, \u001b[38;5;34m196\u001b[0m)      │       \u001b[38;5;34m297,136\u001b[0m │\n",
       "├─────────────────────────────────┼────────────────────────┼───────────────┤\n",
       "│ batch_normalization             │ (\u001b[38;5;45mNone\u001b[0m, \u001b[38;5;45mNone\u001b[0m, \u001b[38;5;34m196\u001b[0m)      │           \u001b[38;5;34m784\u001b[0m │\n",
       "│ (\u001b[38;5;33mBatchNormalization\u001b[0m)            │                        │               │\n",
       "├─────────────────────────────────┼────────────────────────┼───────────────┤\n",
       "│ activation (\u001b[38;5;33mActivation\u001b[0m)         │ (\u001b[38;5;45mNone\u001b[0m, \u001b[38;5;45mNone\u001b[0m, \u001b[38;5;34m196\u001b[0m)      │             \u001b[38;5;34m0\u001b[0m │\n",
       "├─────────────────────────────────┼────────────────────────┼───────────────┤\n",
       "│ dropout (\u001b[38;5;33mDropout\u001b[0m)               │ (\u001b[38;5;45mNone\u001b[0m, \u001b[38;5;45mNone\u001b[0m, \u001b[38;5;34m196\u001b[0m)      │             \u001b[38;5;34m0\u001b[0m │\n",
       "├─────────────────────────────────┼────────────────────────┼───────────────┤\n",
       "│ gru (\u001b[38;5;33mGRU\u001b[0m)                       │ (\u001b[38;5;45mNone\u001b[0m, \u001b[38;5;45mNone\u001b[0m, \u001b[38;5;34m128\u001b[0m)      │       \u001b[38;5;34m125,184\u001b[0m │\n",
       "├─────────────────────────────────┼────────────────────────┼───────────────┤\n",
       "│ dropout_1 (\u001b[38;5;33mDropout\u001b[0m)             │ (\u001b[38;5;45mNone\u001b[0m, \u001b[38;5;45mNone\u001b[0m, \u001b[38;5;34m128\u001b[0m)      │             \u001b[38;5;34m0\u001b[0m │\n",
       "├─────────────────────────────────┼────────────────────────┼───────────────┤\n",
       "│ batch_normalization_1           │ (\u001b[38;5;45mNone\u001b[0m, \u001b[38;5;45mNone\u001b[0m, \u001b[38;5;34m128\u001b[0m)      │           \u001b[38;5;34m512\u001b[0m │\n",
       "│ (\u001b[38;5;33mBatchNormalization\u001b[0m)            │                        │               │\n",
       "├─────────────────────────────────┼────────────────────────┼───────────────┤\n",
       "│ gru_1 (\u001b[38;5;33mGRU\u001b[0m)                     │ (\u001b[38;5;45mNone\u001b[0m, \u001b[38;5;45mNone\u001b[0m, \u001b[38;5;34m128\u001b[0m)      │        \u001b[38;5;34m99,072\u001b[0m │\n",
       "├─────────────────────────────────┼────────────────────────┼───────────────┤\n",
       "│ dropout_2 (\u001b[38;5;33mDropout\u001b[0m)             │ (\u001b[38;5;45mNone\u001b[0m, \u001b[38;5;45mNone\u001b[0m, \u001b[38;5;34m128\u001b[0m)      │             \u001b[38;5;34m0\u001b[0m │\n",
       "├─────────────────────────────────┼────────────────────────┼───────────────┤\n",
       "│ batch_normalization_2           │ (\u001b[38;5;45mNone\u001b[0m, \u001b[38;5;45mNone\u001b[0m, \u001b[38;5;34m128\u001b[0m)      │           \u001b[38;5;34m512\u001b[0m │\n",
       "│ (\u001b[38;5;33mBatchNormalization\u001b[0m)            │                        │               │\n",
       "├─────────────────────────────────┼────────────────────────┼───────────────┤\n",
       "│ dropout_3 (\u001b[38;5;33mDropout\u001b[0m)             │ (\u001b[38;5;45mNone\u001b[0m, \u001b[38;5;45mNone\u001b[0m, \u001b[38;5;34m128\u001b[0m)      │             \u001b[38;5;34m0\u001b[0m │\n",
       "├─────────────────────────────────┼────────────────────────┼───────────────┤\n",
       "│ time_distributed                │ (\u001b[38;5;45mNone\u001b[0m, \u001b[38;5;45mNone\u001b[0m, \u001b[38;5;34m1\u001b[0m)        │           \u001b[38;5;34m129\u001b[0m │\n",
       "│ (\u001b[38;5;33mTimeDistributed\u001b[0m)               │                        │               │\n",
       "└─────────────────────────────────┴────────────────────────┴───────────────┘\n"
      ]
     },
     "metadata": {},
     "output_type": "display_data"
    },
    {
     "data": {
      "text/html": [
       "<pre style=\"white-space:pre;overflow-x:auto;line-height:normal;font-family:Menlo,'DejaVu Sans Mono',consolas,'Courier New',monospace\"><span style=\"font-weight: bold\"> Total params: </span><span style=\"color: #00af00; text-decoration-color: #00af00\">523,329</span> (2.00 MB)\n",
       "</pre>\n"
      ],
      "text/plain": [
       "\u001b[1m Total params: \u001b[0m\u001b[38;5;34m523,329\u001b[0m (2.00 MB)\n"
      ]
     },
     "metadata": {},
     "output_type": "display_data"
    },
    {
     "data": {
      "text/html": [
       "<pre style=\"white-space:pre;overflow-x:auto;line-height:normal;font-family:Menlo,'DejaVu Sans Mono',consolas,'Courier New',monospace\"><span style=\"font-weight: bold\"> Trainable params: </span><span style=\"color: #00af00; text-decoration-color: #00af00\">522,425</span> (1.99 MB)\n",
       "</pre>\n"
      ],
      "text/plain": [
       "\u001b[1m Trainable params: \u001b[0m\u001b[38;5;34m522,425\u001b[0m (1.99 MB)\n"
      ]
     },
     "metadata": {},
     "output_type": "display_data"
    },
    {
     "data": {
      "text/html": [
       "<pre style=\"white-space:pre;overflow-x:auto;line-height:normal;font-family:Menlo,'DejaVu Sans Mono',consolas,'Courier New',monospace\"><span style=\"font-weight: bold\"> Non-trainable params: </span><span style=\"color: #00af00; text-decoration-color: #00af00\">904</span> (3.53 KB)\n",
       "</pre>\n"
      ],
      "text/plain": [
       "\u001b[1m Non-trainable params: \u001b[0m\u001b[38;5;34m904\u001b[0m (3.53 KB)\n"
      ]
     },
     "metadata": {},
     "output_type": "display_data"
    }
   ],
   "source": [
    "model.summary()"
   ]
  },
  {
   "cell_type": "code",
   "execution_count": 21,
   "metadata": {},
   "outputs": [],
   "source": [
    "model.layers[2].trainable = False\n",
    "model.layers[7].trainable = False\n",
    "model.layers[10].trainable = False"
   ]
  },
  {
   "cell_type": "code",
   "execution_count": 22,
   "metadata": {},
   "outputs": [],
   "source": [
    "opt = tf.keras.optimizers.Adam()\n",
    "model.compile(loss='binary_crossentropy', optimizer=opt, metrics=[\"accuracy\"])"
   ]
  },
  {
   "cell_type": "code",
   "execution_count": null,
   "metadata": {},
   "outputs": [
    {
     "name": "stdout",
     "output_type": "stream",
     "text": [
      "Epoch 1/6\n",
      "\u001b[1m4/4\u001b[0m \u001b[32m━━━━━━━━━━━━━━━━━━━━\u001b[0m\u001b[37m\u001b[0m \u001b[1m40s\u001b[0m 2s/step - accuracy: 0.5427 - loss: 1.4814\n",
      "Epoch 2/6\n",
      "\u001b[1m4/4\u001b[0m \u001b[32m━━━━━━━━━━━━━━━━━━━━\u001b[0m\u001b[37m\u001b[0m \u001b[1m8s\u001b[0m 2s/step - accuracy: 0.6817 - loss: 0.9329\n",
      "Epoch 3/6\n",
      "\u001b[1m4/4\u001b[0m \u001b[32m━━━━━━━━━━━━━━━━━━━━\u001b[0m\u001b[37m\u001b[0m \u001b[1m8s\u001b[0m 2s/step - accuracy: 0.7746 - loss: 0.6878\n",
      "Epoch 4/6\n",
      "\u001b[1m4/4\u001b[0m \u001b[32m━━━━━━━━━━━━━━━━━━━━\u001b[0m\u001b[37m\u001b[0m \u001b[1m8s\u001b[0m 2s/step - accuracy: 0.8558 - loss: 0.5336\n",
      "Epoch 5/6\n",
      "\u001b[1m4/4\u001b[0m \u001b[32m━━━━━━━━━━━━━━━━━━━━\u001b[0m\u001b[37m\u001b[0m \u001b[1m8s\u001b[0m 2s/step - accuracy: 0.8929 - loss: 0.5236\n",
      "Epoch 6/6\n",
      "\u001b[1m4/4\u001b[0m \u001b[32m━━━━━━━━━━━━━━━━━━━━\u001b[0m\u001b[37m\u001b[0m \u001b[1m8s\u001b[0m 2s/step - accuracy: 0.9050 - loss: 0.5514\n"
     ]
    },
    {
     "data": {
      "text/plain": [
       "<keras.src.callbacks.history.History at 0x7f438229d780>"
      ]
     },
     "execution_count": 23,
     "metadata": {},
     "output_type": "execute_result"
    }
   ],
   "source": [
    "model.fit(x, y, batch_size = 8, epochs=5)"
   ]
  },
  {
   "cell_type": "code",
   "execution_count": 24,
   "metadata": {},
   "outputs": [],
   "source": [
    "model.save(r'/media/shiva/ML/NLP/trigger_word_detection/model/44.1khz.keras')"
   ]
  },
  {
   "cell_type": "code",
   "execution_count": null,
   "metadata": {},
   "outputs": [],
   "source": []
  }
 ],
 "metadata": {
  "kernelspec": {
   "display_name": "main_ml",
   "language": "python",
   "name": "python3"
  },
  "language_info": {
   "codemirror_mode": {
    "name": "ipython",
    "version": 3
   },
   "file_extension": ".py",
   "mimetype": "text/x-python",
   "name": "python",
   "nbconvert_exporter": "python",
   "pygments_lexer": "ipython3",
   "version": "3.10.16"
  }
 },
 "nbformat": 4,
 "nbformat_minor": 2
}
