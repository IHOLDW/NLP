{
 "cells": [
  {
   "cell_type": "code",
   "execution_count": 2,
   "metadata": {},
   "outputs": [
    {
     "name": "stderr",
     "output_type": "stream",
     "text": [
      "2025-02-11 22:40:17.557611: I tensorflow/core/platform/cpu_feature_guard.cc:210] This TensorFlow binary is optimized to use available CPU instructions in performance-critical operations.\n",
      "To enable the following instructions: AVX2 FMA, in other operations, rebuild TensorFlow with the appropriate compiler flags.\n"
     ]
    }
   ],
   "source": [
    "import pyaudio\n",
    "import librosa\n",
    "from tensorflow.keras.models import load_model\n",
    "import numpy as np\n",
    "from scipy.io import wavfile\n",
    "import matplotlib.pyplot as plt\n",
    "from threading import Thread\n",
    "# from pydub import AudioSegment"
   ]
  },
  {
   "cell_type": "code",
   "execution_count": 3,
   "metadata": {},
   "outputs": [],
   "source": [
    "model = load_model(r'/media/shiva/ML/NLP/trigger_word_detection/model/44.1khz.keras')"
   ]
  },
  {
   "cell_type": "code",
   "execution_count": 4,
   "metadata": {},
   "outputs": [],
   "source": [
    "def process_audio(aud_file, nfft, sampling_rate, non_overlap):\n",
    "    audio, sr = librosa.load(aud_file, sr = sampling_rate)\n",
    "    hop_len = nfft - non_overlap\n",
    "    stft = librosa.stft(audio, n_fft = nfft, hop_length = hop_len)\n",
    "    stft = np.abs(stft)\n",
    "    stft_db = librosa.amplitude_to_db(stft ** 2, ref = np.max)\n",
    "    stft_db = stft_db.T\n",
    "    \n",
    "    return np.expand_dims(stft_db, axis = 0)"
   ]
  },
  {
   "cell_type": "code",
   "execution_count": 5,
   "metadata": {},
   "outputs": [],
   "source": [
    "pos = process_audio(r'/media/shiva/ML/NLP/trigger_word_detection/dataset/raw_data/activates/3.wav', 200, 44100, 120)\n",
    "neg = process_audio(r'/media/shiva/ML/NLP/trigger_word_detection/dataset/raw_data/negatives/1.wav', 200, 44100, 120)\n",
    "back = process_audio(r'/media/shiva/ML/NLP/trigger_word_detection/dataset/raw_data/backgrounds/1.wav', 200, 44100, 120)"
   ]
  },
  {
   "cell_type": "code",
   "execution_count": 6,
   "metadata": {},
   "outputs": [
    {
     "name": "stdout",
     "output_type": "stream",
     "text": [
      "(1, 5513, 101)\n",
      "(1, 199, 101)\n",
      "(1, 369, 101)\n"
     ]
    }
   ],
   "source": [
    "print(back.shape)\n",
    "print(neg.shape)\n",
    "print(pos.shape)"
   ]
  },
  {
   "cell_type": "code",
   "execution_count": 7,
   "metadata": {},
   "outputs": [
    {
     "name": "stdout",
     "output_type": "stream",
     "text": [
      "\u001b[1m1/1\u001b[0m \u001b[32m━━━━━━━━━━━━━━━━━━━━\u001b[0m\u001b[37m\u001b[0m \u001b[1m0s\u001b[0m 395ms/step\n",
      "\u001b[1m1/1\u001b[0m \u001b[32m━━━━━━━━━━━━━━━━━━━━\u001b[0m\u001b[37m\u001b[0m \u001b[1m0s\u001b[0m 380ms/step\n",
      "\u001b[1m1/1\u001b[0m \u001b[32m━━━━━━━━━━━━━━━━━━━━\u001b[0m\u001b[37m\u001b[0m \u001b[1m0s\u001b[0m 28ms/step\n"
     ]
    }
   ],
   "source": [
    "res_neg = model.predict(neg)\n",
    "res_back = model.predict(back)\n",
    "res_pos = model.predict(pos)"
   ]
  },
  {
   "cell_type": "code",
   "execution_count": 8,
   "metadata": {},
   "outputs": [
    {
     "name": "stdout",
     "output_type": "stream",
     "text": [
      "(1, 47, 1)\n",
      "(1, 89, 1)\n",
      "(1, 1375, 1)\n"
     ]
    }
   ],
   "source": [
    "print(res_neg.shape)\n",
    "print(res_pos.shape)\n",
    "print(res_back.shape)"
   ]
  },
  {
   "cell_type": "code",
   "execution_count": 9,
   "metadata": {},
   "outputs": [
    {
     "name": "stdout",
     "output_type": "stream",
     "text": [
      "0.04250374\n",
      "0.042014416\n",
      "0.042645924\n"
     ]
    }
   ],
   "source": [
    "print(np.max(res_neg[0, :, 0]))\n",
    "print(np.max(res_pos[0, :, 0]))\n",
    "print(np.max(res_back[0, :, 0]))"
   ]
  },
  {
   "cell_type": "code",
   "execution_count": 11,
   "metadata": {},
   "outputs": [
    {
     "name": "stdout",
     "output_type": "stream",
     "text": [
      "[4.2014416e-02 7.5263293e-03 2.4836771e-03 1.1599411e-03 6.6927797e-04\n",
      " 4.4317506e-04 3.2253211e-04 2.5111568e-04 2.0547987e-04 1.7457527e-04\n",
      " 1.5267762e-04 1.3659359e-04 1.2439652e-04 1.1501190e-04 1.0757922e-04\n",
      " 1.0157153e-04 9.6580319e-05 9.2635542e-05 8.9373454e-05 8.6558139e-05\n",
      " 8.4221327e-05 8.2211292e-05 8.0403341e-05 7.8694422e-05 7.7630793e-05\n",
      " 7.6538490e-05 7.5422911e-05 7.4620744e-05 7.4005846e-05 7.3266077e-05\n",
      " 7.2527168e-05 7.1907765e-05 7.1333110e-05 7.0852046e-05 7.0396767e-05\n",
      " 6.9850845e-05 6.9572168e-05 6.9265610e-05 6.8981375e-05 6.8679910e-05\n",
      " 6.8385743e-05 6.8112276e-05 6.7861496e-05 6.7634479e-05 6.7413617e-05\n",
      " 6.7244175e-05 6.7076122e-05 6.6923494e-05 6.6759603e-05 6.6669592e-05\n",
      " 6.6555061e-05 6.6419503e-05 6.6344932e-05 6.6260960e-05 6.6171488e-05\n",
      " 6.6082132e-05 6.5995853e-05 6.5915345e-05 6.5842731e-05 6.5773689e-05\n",
      " 6.5708744e-05 6.5647808e-05 6.5590997e-05 6.5537723e-05 6.5487424e-05\n",
      " 6.5440603e-05 6.5395558e-05 6.5354419e-05 6.5313172e-05 6.5278553e-05\n",
      " 6.5233493e-05 6.5213724e-05 6.5182197e-05 6.5152184e-05 6.5121370e-05\n",
      " 6.5099463e-05 6.5075496e-05 6.5054657e-05 6.5039945e-05 6.5017877e-05\n",
      " 6.4996799e-05 6.4983789e-05 6.4964195e-05 6.4932181e-05 6.4917811e-05\n",
      " 6.4913729e-05 6.4828666e-05 6.4848209e-05 6.4927597e-05]\n"
     ]
    }
   ],
   "source": [
    "print(res_pos[0, :, 0])"
   ]
  },
  {
   "cell_type": "code",
   "execution_count": null,
   "metadata": {},
   "outputs": [],
   "source": []
  }
 ],
 "metadata": {
  "kernelspec": {
   "display_name": "main_ml",
   "language": "python",
   "name": "python3"
  },
  "language_info": {
   "codemirror_mode": {
    "name": "ipython",
    "version": 3
   },
   "file_extension": ".py",
   "mimetype": "text/x-python",
   "name": "python",
   "nbconvert_exporter": "python",
   "pygments_lexer": "ipython3",
   "version": "3.10.16"
  }
 },
 "nbformat": 4,
 "nbformat_minor": 2
}
